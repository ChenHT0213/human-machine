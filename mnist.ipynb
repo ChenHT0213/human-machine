{
  "nbformat": 4,
  "nbformat_minor": 0,
  "metadata": {
    "colab": {
      "name": "mnist.ipynb",
      "provenance": [],
      "collapsed_sections": []
    },
    "kernelspec": {
      "name": "python3",
      "display_name": "Python 3"
    },
    "language_info": {
      "name": "python"
    }
  },
  "cells": [
    {
      "cell_type": "markdown",
      "metadata": {
        "id": "3VJMsbzDt8yJ"
      },
      "source": [
        "# 載入套件"
      ]
    },
    {
      "cell_type": "code",
      "metadata": {
        "id": "lJDPbpAZpe_H"
      },
      "source": [
        "from keras.models import Sequential, load_model\n",
        "from keras.layers import Dense, Flatten, Conv2D, AveragePooling2D\n",
        "from tensorflow.keras.utils import to_categorical\n",
        "from keras.datasets import mnist   #使用的資料集\n",
        "import matplotlib.pyplot as plt     #資料視覺化\n",
        "import pandas as pd  #矩陣運算\n",
        "import numpy as np   #資料處理與結構"
      ],
      "execution_count": null,
      "outputs": []
    },
    {
      "cell_type": "markdown",
      "metadata": {
        "id": "xAU1rTGsuHrR"
      },
      "source": [
        "# 載入資料"
      ]
    },
    {
      "cell_type": "code",
      "metadata": {
        "id": "0v2d8rmhqZkd",
        "colab": {
          "base_uri": "https://localhost:8080/"
        },
        "outputId": "44da4928-80cc-4ca3-88e6-03be69eff272"
      },
      "source": [
        "# Mnist Dataset    x:訓練集 y:測試集\n",
        "(X_train, Y_train), (X_test, Y_test) = mnist.load_data()\n",
        "\n",
        "#資料預處理 --> 正規化 (除以255，使之介於0-1)\n",
        "x_train = X_train.reshape(60000, 28, 28, 1)/255 #圖片張數, 圖片大小n*n, 色彩(1:黑白 3:彩色)\n",
        "x_test = X_test.reshape(10000, 28, 28, 1)/255  #圖片張數, 圖片大小n*n, 色彩(1:黑白 3:彩色)\n",
        "\n",
        "#資料預處理 --> OneHot Encoding (將類別向量轉為二進位制)\n",
        "y_train = to_categorical(Y_train)\n",
        "y_test = to_categorical(Y_test)"
      ],
      "execution_count": null,
      "outputs": [
        {
          "output_type": "stream",
          "text": [
            "Downloading data from https://storage.googleapis.com/tensorflow/tf-keras-datasets/mnist.npz\n",
            "11493376/11490434 [==============================] - 0s 0us/step\n",
            "11501568/11490434 [==============================] - 0s 0us/step\n"
          ],
          "name": "stdout"
        }
      ]
    },
    {
      "cell_type": "markdown",
      "metadata": {
        "id": "dex-cZw-YRO3"
      },
      "source": [
        "OneHot Encoding"
      ]
    },
    {
      "cell_type": "code",
      "metadata": {
        "colab": {
          "base_uri": "https://localhost:8080/"
        },
        "id": "pkJ594yDs9kz",
        "outputId": "4b2d92e3-f5b6-41fe-c93a-734ba950dc90"
      },
      "source": [
        "Y_train.shape"
      ],
      "execution_count": null,
      "outputs": [
        {
          "output_type": "execute_result",
          "data": {
            "text/plain": [
              "(60000,)"
            ]
          },
          "metadata": {
            "tags": []
          },
          "execution_count": 3
        }
      ]
    },
    {
      "cell_type": "code",
      "metadata": {
        "colab": {
          "base_uri": "https://localhost:8080/"
        },
        "id": "frysvaKRtorD",
        "outputId": "215a5713-cb4c-4eed-c9ee-3807bd8b4482"
      },
      "source": [
        "#OneHot Encoding前\n",
        "Y_train[0]"
      ],
      "execution_count": null,
      "outputs": [
        {
          "output_type": "execute_result",
          "data": {
            "text/plain": [
              "5"
            ]
          },
          "metadata": {
            "tags": []
          },
          "execution_count": 4
        }
      ]
    },
    {
      "cell_type": "code",
      "metadata": {
        "colab": {
          "base_uri": "https://localhost:8080/"
        },
        "id": "HuHCEeD5ttfZ",
        "outputId": "5cf6323c-b034-4fa9-c77f-37d7660fc912"
      },
      "source": [
        "y_train.shape"
      ],
      "execution_count": null,
      "outputs": [
        {
          "output_type": "execute_result",
          "data": {
            "text/plain": [
              "(60000, 10)"
            ]
          },
          "metadata": {
            "tags": []
          },
          "execution_count": 5
        }
      ]
    },
    {
      "cell_type": "code",
      "metadata": {
        "colab": {
          "base_uri": "https://localhost:8080/"
        },
        "id": "e6YHYto4ty_f",
        "outputId": "8b3a9d37-27de-42b4-ad4d-48b7faa8cec3"
      },
      "source": [
        "#OneHot Encoding後  (輸出結果以此方式表達label)\n",
        "y_train[0]"
      ],
      "execution_count": null,
      "outputs": [
        {
          "output_type": "execute_result",
          "data": {
            "text/plain": [
              "array([0., 0., 0., 0., 0., 1., 0., 0., 0., 0.], dtype=float32)"
            ]
          },
          "metadata": {
            "tags": []
          },
          "execution_count": 6
        }
      ]
    },
    {
      "cell_type": "markdown",
      "metadata": {
        "id": "kTjjzq5XuMT_"
      },
      "source": [
        "# 建立LeNet-5模型"
      ]
    },
    {
      "cell_type": "code",
      "metadata": {
        "colab": {
          "base_uri": "https://localhost:8080/"
        },
        "id": "qBqcy4Y1uT-2",
        "outputId": "03e8c940-d4fb-4968-d0f2-936a36f134a1"
      },
      "source": [
        "model = Sequential()\n",
        "\n",
        "#第一層：卷積層 (第一層才需寫輸入圖片大小)\n",
        "#因為沒有設padding，所以輸出第一層的圖片大小降低為26*26\n",
        "model.add(Conv2D(filters=6, kernel_size=(3,3), activation='relu', input_shape=(28, 28, 1)))\n",
        "model.add(AveragePooling2D())\n",
        "#第二層：卷積層\n",
        "model.add(Conv2D(filters=16, kernel_size=(3,3), activation='relu'))\n",
        "model.add(AveragePooling2D())\n",
        "\n",
        "#攤平\n",
        "model.add(Flatten())\n",
        "\n",
        "model.add(Dense(units=120, activation='relu'))\n",
        "\n",
        "model.add(Dense(units=84, activation='relu'))\n",
        "\n",
        "model.add(Dense(units=10, activation='softmax')) #輸出10類(0-9)的手寫辨識 ; softmax:多分類\n",
        "\n",
        "print(model.summary())"
      ],
      "execution_count": null,
      "outputs": [
        {
          "output_type": "stream",
          "text": [
            "Model: \"sequential\"\n",
            "_________________________________________________________________\n",
            "Layer (type)                 Output Shape              Param #   \n",
            "=================================================================\n",
            "conv2d (Conv2D)              (None, 26, 26, 6)         60        \n",
            "_________________________________________________________________\n",
            "average_pooling2d (AveragePo (None, 13, 13, 6)         0         \n",
            "_________________________________________________________________\n",
            "conv2d_1 (Conv2D)            (None, 11, 11, 16)        880       \n",
            "_________________________________________________________________\n",
            "average_pooling2d_1 (Average (None, 5, 5, 16)          0         \n",
            "_________________________________________________________________\n",
            "flatten (Flatten)            (None, 400)               0         \n",
            "_________________________________________________________________\n",
            "dense (Dense)                (None, 120)               48120     \n",
            "_________________________________________________________________\n",
            "dense_1 (Dense)              (None, 84)                10164     \n",
            "_________________________________________________________________\n",
            "dense_2 (Dense)              (None, 10)                850       \n",
            "=================================================================\n",
            "Total params: 60,074\n",
            "Trainable params: 60,074\n",
            "Non-trainable params: 0\n",
            "_________________________________________________________________\n",
            "None\n"
          ],
          "name": "stdout"
        }
      ]
    },
    {
      "cell_type": "markdown",
      "metadata": {
        "id": "K5p2TjNuRowz"
      },
      "source": [
        "# 訓練模型"
      ]
    },
    {
      "cell_type": "code",
      "metadata": {
        "colab": {
          "base_uri": "https://localhost:8080/"
        },
        "id": "RFXw7ibwRrjm",
        "outputId": "07930d14-8199-4692-e83a-8a0723f855a7"
      },
      "source": [
        "#評估標準:accuracy準確率\n",
        "model.compile(loss='categorical_crossentropy', optimizer='adam', metrics=['accuracy'])\n",
        "#epochs訓練次數:10次\n",
        "model.fit(x_train, y_train, epochs=10, batch_size=64, verbose=1)"
      ],
      "execution_count": null,
      "outputs": [
        {
          "output_type": "stream",
          "text": [
            "Epoch 1/10\n",
            "938/938 [==============================] - 36s 21ms/step - loss: 0.6082 - accuracy: 0.8295\n",
            "Epoch 2/10\n",
            "938/938 [==============================] - 21s 22ms/step - loss: 0.0957 - accuracy: 0.9711\n",
            "Epoch 3/10\n",
            "938/938 [==============================] - 21s 23ms/step - loss: 0.0667 - accuracy: 0.9802\n",
            "Epoch 4/10\n",
            "938/938 [==============================] - 21s 23ms/step - loss: 0.0521 - accuracy: 0.9840\n",
            "Epoch 5/10\n",
            "938/938 [==============================] - 21s 23ms/step - loss: 0.0431 - accuracy: 0.9870\n",
            "Epoch 6/10\n",
            "938/938 [==============================] - 22s 23ms/step - loss: 0.0366 - accuracy: 0.9888\n",
            "Epoch 7/10\n",
            "938/938 [==============================] - 21s 23ms/step - loss: 0.0316 - accuracy: 0.9898\n",
            "Epoch 8/10\n",
            "938/938 [==============================] - 21s 23ms/step - loss: 0.0266 - accuracy: 0.9914\n",
            "Epoch 9/10\n",
            "938/938 [==============================] - 22s 23ms/step - loss: 0.0243 - accuracy: 0.9918\n",
            "Epoch 10/10\n",
            "938/938 [==============================] - 22s 23ms/step - loss: 0.0194 - accuracy: 0.9939\n"
          ],
          "name": "stdout"
        },
        {
          "output_type": "execute_result",
          "data": {
            "text/plain": [
              "<keras.callbacks.History at 0x7f65eaa25710>"
            ]
          },
          "metadata": {
            "tags": []
          },
          "execution_count": 8
        }
      ]
    },
    {
      "cell_type": "markdown",
      "metadata": {
        "id": "LvYRstH5dGv_"
      },
      "source": [
        "# 評估測試集"
      ]
    },
    {
      "cell_type": "code",
      "metadata": {
        "colab": {
          "base_uri": "https://localhost:8080/"
        },
        "id": "FfmOIPksdKKZ",
        "outputId": "1dd5b51c-92db-49f5-b528-1be3c475e388"
      },
      "source": [
        "loss, accuracy = model.evaluate(x_test, y_test)\n",
        "\n",
        "print('Test:')\n",
        "print('Loss: %.3f \\nAccuracy: %.3f' %(loss, accuracy))"
      ],
      "execution_count": null,
      "outputs": [
        {
          "output_type": "stream",
          "text": [
            "313/313 [==============================] - 2s 7ms/step - loss: 0.0340 - accuracy: 0.9895\n",
            "Test:\n",
            "Loss: 0.034 \n",
            "Accuracy: 0.989\n"
          ],
          "name": "stdout"
        }
      ]
    },
    {
      "cell_type": "markdown",
      "metadata": {
        "id": "vpUJ-sgZdmAd"
      },
      "source": [
        "# 定義函式"
      ]
    },
    {
      "cell_type": "code",
      "metadata": {
        "id": "M016rODjdqtd"
      },
      "source": [
        "#繪製訓練集(traindata)或測試集(else)的label和圖片\n",
        "def plot_img(num, traindata=True):\n",
        "  if traindata:\n",
        "    plt.imshow(X_train[num], cmap='gray')\n",
        "    print('label: ', Y_train[num])\n",
        "    plt.show()\n",
        "  else:\n",
        "    plt.imshow(X_test[num], cmap='gray')\n",
        "    print('label: ', Y_test[num])\n",
        "    plt.show()\n",
        "\n",
        "#印出測試集的評估結果\n",
        "def all_img_predict(model):\n",
        "  #print(model.summary())\n",
        "  #評估結果\n",
        "  loss, accuracy = model.evaluate(x_test, y_test)\n",
        "  print('Loss: %.3f' %loss)\n",
        "  print('Accuracy: %.3f' %accuracy)\n",
        "  #混淆矩陣\n",
        "  predict = model.predict_classes(x_test)\n",
        "  print(pd.crosstab(Y_test.reshape(-1), predict, rownames=['Label'], colnames=['predict']))\n",
        "\n",
        "#印出對測試集 : 預測的label 與 實際的label 與 圖片\n",
        "def one_img_predict(model, num):\n",
        "  #預測的label\n",
        "  predict = model.predict_classes(x_test)\n",
        "  print('Prediction:', predict[num])\n",
        "  #實際的lebel與圖片\n",
        "  plot_img(num, traindata=False)\n",
        "  print('---------------------------------')"
      ],
      "execution_count": null,
      "outputs": []
    },
    {
      "cell_type": "code",
      "metadata": {
        "id": "ItloWFs426H8"
      },
      "source": [
        "#訓練集第0筆\n",
        "plot_img(0)\n",
        "#測試集第0筆\n",
        "plot_img(0, traindata=False)"
      ],
      "execution_count": null,
      "outputs": []
    },
    {
      "cell_type": "code",
      "metadata": {
        "id": "GL-55_sj3TnD"
      },
      "source": [
        "all_img_predict(model)"
      ],
      "execution_count": null,
      "outputs": []
    },
    {
      "cell_type": "code",
      "metadata": {
        "colab": {
          "base_uri": "https://localhost:8080/",
          "height": 1000
        },
        "id": "t9Cs1XPC3WqX",
        "outputId": "374e3d0f-63ed-4349-974c-be865d059166"
      },
      "source": [
        "for i in range(10):\n",
        "  one_img_predict(model, i)"
      ],
      "execution_count": null,
      "outputs": [
        {
          "output_type": "stream",
          "text": [
            "/usr/local/lib/python3.7/dist-packages/keras/engine/sequential.py:450: UserWarning: `model.predict_classes()` is deprecated and will be removed after 2021-01-01. Please use instead:* `np.argmax(model.predict(x), axis=-1)`,   if your model does multi-class classification   (e.g. if it uses a `softmax` last-layer activation).* `(model.predict(x) > 0.5).astype(\"int32\")`,   if your model does binary classification   (e.g. if it uses a `sigmoid` last-layer activation).\n",
            "  warnings.warn('`model.predict_classes()` is deprecated and '\n"
          ],
          "name": "stderr"
        },
        {
          "output_type": "stream",
          "text": [
            "Prediction: 7\n",
            "label:  7\n"
          ],
          "name": "stdout"
        },
        {
          "output_type": "display_data",
          "data": {
            "image/png": "[encoded data removed]",
            "text/plain": [
              "<Figure size 432x288 with 1 Axes>"
            ]
          },
          "metadata": {
            "tags": [],
            "needs_background": "light"
          }
        },
        {
          "output_type": "stream",
          "text": [
            "---------------------------------\n",
            "Prediction: 2\n",
            "label:  2\n"
          ],
          "name": "stdout"
        },
        {
          "output_type": "display_data",
          "data": {
            "image/png": "[encoded data removed]",
            "text/plain": [
              "<Figure size 432x288 with 1 Axes>"
            ]
          },
          "metadata": {
            "tags": [],
            "needs_background": "light"
          }
        },
        {
          "output_type": "stream",
          "text": [
            "---------------------------------\n",
            "Prediction: 1\n",
            "label:  1\n"
          ],
          "name": "stdout"
        },
        {
          "output_type": "display_data",
          "data": {
            "image/png": "[encoded data removed]",
            "text/plain": [
              "<Figure size 432x288 with 1 Axes>"
            ]
          },
          "metadata": {
            "tags": [],
            "needs_background": "light"
          }
        },
        {
          "output_type": "stream",
          "text": [
            "---------------------------------\n",
            "Prediction: 0\n",
            "label:  0\n"
          ],
          "name": "stdout"
        },
        {
          "output_type": "display_data",
          "data": {
            "image/png": "[encoded data removed]",
            "text/plain": [
              "<Figure size 432x288 with 1 Axes>"
            ]
          },
          "metadata": {
            "tags": [],
            "needs_background": "light"
          }
        },
        {
          "output_type": "stream",
          "text": [
            "---------------------------------\n",
            "Prediction: 4\n",
            "label:  4\n"
          ],
          "name": "stdout"
        },
        {
          "output_type": "display_data",
          "data": {
            "image/png": "[encoded data removed]",
            "text/plain": [
              "<Figure size 432x288 with 1 Axes>"
            ]
          },
          "metadata": {
            "tags": [],
            "needs_background": "light"
          }
        },
        {
          "output_type": "stream",
          "text": [
            "---------------------------------\n",
            "Prediction: 1\n",
            "label:  1\n"
          ],
          "name": "stdout"
        },
        {
          "output_type": "display_data",
          "data": {
            "image/png": "[encoded data removed]",
            "text/plain": [
              "<Figure size 432x288 with 1 Axes>"
            ]
          },
          "metadata": {
            "tags": [],
            "needs_background": "light"
          }
        },
        {
          "output_type": "stream",
          "text": [
            "---------------------------------\n",
            "Prediction: 4\n",
            "label:  4\n"
          ],
          "name": "stdout"
        },
        {
          "output_type": "display_data",
          "data": {
            "image/png": "[encoded data removed]",
            "text/plain": [
              "<Figure size 432x288 with 1 Axes>"
            ]
          },
          "metadata": {
            "tags": [],
            "needs_background": "light"
          }
        },
        {
          "output_type": "stream",
          "text": [
            "---------------------------------\n",
            "Prediction: 9\n",
            "label:  9\n"
          ],
          "name": "stdout"
        },
        {
          "output_type": "display_data",
          "data": {
            "image/png": "[encoded data removed]",
            "text/plain": [
              "<Figure size 432x288 with 1 Axes>"
            ]
          },
          "metadata": {
            "tags": [],
            "needs_background": "light"
          }
        },
        {
          "output_type": "stream",
          "text": [
            "---------------------------------\n",
            "Prediction: 6\n",
            "label:  5\n"
          ],
          "name": "stdout"
        },
        {
          "output_type": "display_data",
          "data": {
            "image/png": "[encoded data removed]",
            "text/plain": [
              "<Figure size 432x288 with 1 Axes>"
            ]
          },
          "metadata": {
            "tags": [],
            "needs_background": "light"
          }
        },
        {
          "output_type": "stream",
          "text": [
            "---------------------------------\n",
            "Prediction: 9\n",
            "label:  9\n"
          ],
          "name": "stdout"
        },
        {
          "output_type": "display_data",
          "data": {
            "image/png": "[encoded data removed]",
            "text/plain": [
              "<Figure size 432x288 with 1 Axes>"
            ]
          },
          "metadata": {
            "tags": [],
            "needs_background": "light"
          }
        },
        {
          "output_type": "stream",
          "text": [
            "---------------------------------\n"
          ],
          "name": "stdout"
        }
      ]
    },
    {
      "cell_type": "markdown",
      "metadata": {
        "id": "OjGEd6225PwV"
      },
      "source": [
        "# 錯分圖片"
      ]
    },
    {
      "cell_type": "code",
      "metadata": {
        "colab": {
          "base_uri": "https://localhost:8080/"
        },
        "id": "S4xry2U85SO3",
        "outputId": "ff836854-4893-471d-c147-5f31016ed83d"
      },
      "source": [
        "predict = model.predict_classes(x_test)\n",
        "predict.shape #列出矩陣有幾維(幾個數值)、陣列大小是多少"
      ],
      "execution_count": null,
      "outputs": [
        {
          "output_type": "stream",
          "text": [
            "/usr/local/lib/python3.7/dist-packages/keras/engine/sequential.py:450: UserWarning: `model.predict_classes()` is deprecated and will be removed after 2021-01-01. Please use instead:* `np.argmax(model.predict(x), axis=-1)`,   if your model does multi-class classification   (e.g. if it uses a `softmax` last-layer activation).* `(model.predict(x) > 0.5).astype(\"int32\")`,   if your model does binary classification   (e.g. if it uses a `sigmoid` last-layer activation).\n",
            "  warnings.warn('`model.predict_classes()` is deprecated and '\n"
          ],
          "name": "stderr"
        },
        {
          "output_type": "execute_result",
          "data": {
            "text/plain": [
              "(10000,)"
            ]
          },
          "metadata": {
            "tags": []
          },
          "execution_count": 27
        }
      ]
    },
    {
      "cell_type": "code",
      "metadata": {
        "colab": {
          "base_uri": "https://localhost:8080/"
        },
        "id": "qXcoxTfd5baQ",
        "outputId": "4ae31782-af6e-4daf-d31c-005417faf46d"
      },
      "source": [
        "Y_test.shape #列出矩陣有幾維(幾個數值)、陣列大小是多少"
      ],
      "execution_count": null,
      "outputs": [
        {
          "output_type": "execute_result",
          "data": {
            "text/plain": [
              "(10000,)"
            ]
          },
          "metadata": {
            "tags": []
          },
          "execution_count": 28
        }
      ]
    },
    {
      "cell_type": "code",
      "metadata": {
        "colab": {
          "base_uri": "https://localhost:8080/"
        },
        "id": "LgBILQee5fJJ",
        "outputId": "3a4c7070-8dae-4e6c-85cc-b3190af9507d"
      },
      "source": [
        "#輸出True時:預測正確(資料吻合) ; 輸出False時:預測錯誤(資料不吻合)\n",
        "distinguish = (predict == Y_test)\n",
        "distinguish"
      ],
      "execution_count": null,
      "outputs": [
        {
          "output_type": "execute_result",
          "data": {
            "text/plain": [
              "array([ True,  True,  True, ...,  True,  True,  True])"
            ]
          },
          "metadata": {
            "tags": []
          },
          "execution_count": 30
        }
      ]
    },
    {
      "cell_type": "code",
      "metadata": {
        "id": "4F6gZgj-5p6z"
      },
      "source": [
        "predict_error_index = []\n",
        "for index in range(len(Y_test)):\n",
        "  if ~distinguish[index]:        # ~ : true與false對調\n",
        "    predict_error_index.append(index)  #把原false對調為true後輸出給predict_error_index "
      ],
      "execution_count": null,
      "outputs": []
    },
    {
      "cell_type": "code",
      "metadata": {
        "colab": {
          "base_uri": "https://localhost:8080/"
        },
        "id": "A2btE65w58W6",
        "outputId": "c7972a70-cf57-4995-e19c-0b8932d7d3e1"
      },
      "source": [
        "len(predict_error_index)"
      ],
      "execution_count": null,
      "outputs": [
        {
          "output_type": "execute_result",
          "data": {
            "text/plain": [
              "105"
            ]
          },
          "metadata": {
            "tags": []
          },
          "execution_count": 43
        }
      ]
    },
    {
      "cell_type": "code",
      "metadata": {
        "colab": {
          "base_uri": "https://localhost:8080/",
          "height": 1000
        },
        "id": "V3ug4yOn6Bdt",
        "outputId": "8e0580c8-b5b4-448b-e0b3-b86ac967a625"
      },
      "source": [
        "for num in predict_error_index[0:10]:\n",
        "  one_img_predict(model, num)"
      ],
      "execution_count": null,
      "outputs": [
        {
          "output_type": "stream",
          "text": [
            "/usr/local/lib/python3.7/dist-packages/keras/engine/sequential.py:450: UserWarning: `model.predict_classes()` is deprecated and will be removed after 2021-01-01. Please use instead:* `np.argmax(model.predict(x), axis=-1)`,   if your model does multi-class classification   (e.g. if it uses a `softmax` last-layer activation).* `(model.predict(x) > 0.5).astype(\"int32\")`,   if your model does binary classification   (e.g. if it uses a `sigmoid` last-layer activation).\n",
            "  warnings.warn('`model.predict_classes()` is deprecated and '\n"
          ],
          "name": "stderr"
        },
        {
          "output_type": "stream",
          "text": [
            "Prediction: 6\n",
            "label:  5\n"
          ],
          "name": "stdout"
        },
        {
          "output_type": "display_data",
          "data": {
            "image/png": "[encoded data removed]",
            "text/plain": [
              "<Figure size 432x288 with 1 Axes>"
            ]
          },
          "metadata": {
            "tags": [],
            "needs_background": "light"
          }
        },
        {
          "output_type": "stream",
          "text": [
            "---------------------------------\n",
            "Prediction: 9\n",
            "label:  4\n"
          ],
          "name": "stdout"
        },
        {
          "output_type": "display_data",
          "data": {
            "image/png": "[encoded data removed]",
            "text/plain": [
              "<Figure size 432x288 with 1 Axes>"
            ]
          },
          "metadata": {
            "tags": [],
            "needs_background": "light"
          }
        },
        {
          "output_type": "stream",
          "text": [
            "---------------------------------\n",
            "Prediction: 7\n",
            "label:  2\n"
          ],
          "name": "stdout"
        },
        {
          "output_type": "display_data",
          "data": {
            "image/png": "[encoded data removed]",
            "text/plain": [
              "<Figure size 432x288 with 1 Axes>"
            ]
          },
          "metadata": {
            "tags": [],
            "needs_background": "light"
          }
        },
        {
          "output_type": "stream",
          "text": [
            "---------------------------------\n",
            "Prediction: 3\n",
            "label:  5\n"
          ],
          "name": "stdout"
        },
        {
          "output_type": "display_data",
          "data": {
            "image/png": "[encoded data removed]",
            "text/plain": [
              "<Figure size 432x288 with 1 Axes>"
            ]
          },
          "metadata": {
            "tags": [],
            "needs_background": "light"
          }
        },
        {
          "output_type": "stream",
          "text": [
            "---------------------------------\n",
            "Prediction: 8\n",
            "label:  9\n"
          ],
          "name": "stdout"
        },
        {
          "output_type": "display_data",
          "data": {
            "image/png": "[encoded data removed]",
            "text/plain": [
              "<Figure size 432x288 with 1 Axes>"
            ]
          },
          "metadata": {
            "tags": [],
            "needs_background": "light"
          }
        },
        {
          "output_type": "stream",
          "text": [
            "---------------------------------\n",
            "Prediction: 8\n",
            "label:  9\n"
          ],
          "name": "stdout"
        },
        {
          "output_type": "display_data",
          "data": {
            "image/png": "[encoded data removed]",
            "text/plain": [
              "<Figure size 432x288 with 1 Axes>"
            ]
          },
          "metadata": {
            "tags": [],
            "needs_background": "light"
          }
        },
        {
          "output_type": "stream",
          "text": [
            "---------------------------------\n",
            "Prediction: 5\n",
            "label:  3\n"
          ],
          "name": "stdout"
        },
        {
          "output_type": "display_data",
          "data": {
            "image/png": "[encoded data removed]",
            "text/plain": [
              "<Figure size 432x288 with 1 Axes>"
            ]
          },
          "metadata": {
            "tags": [],
            "needs_background": "light"
          }
        },
        {
          "output_type": "stream",
          "text": [
            "---------------------------------\n",
            "Prediction: 2\n",
            "label:  8\n"
          ],
          "name": "stdout"
        },
        {
          "output_type": "display_data",
          "data": {
            "image/png": "[encoded data removed]",
            "text/plain": [
              "<Figure size 432x288 with 1 Axes>"
            ]
          },
          "metadata": {
            "tags": [],
            "needs_background": "light"
          }
        },
        {
          "output_type": "stream",
          "text": [
            "---------------------------------\n",
            "Prediction: 7\n",
            "label:  1\n"
          ],
          "name": "stdout"
        },
        {
          "output_type": "display_data",
          "data": {
            "image/png": "[encoded data removed]",
            "text/plain": [
              "<Figure size 432x288 with 1 Axes>"
            ]
          },
          "metadata": {
            "tags": [],
            "needs_background": "light"
          }
        },
        {
          "output_type": "stream",
          "text": [
            "---------------------------------\n",
            "Prediction: 8\n",
            "label:  5\n"
          ],
          "name": "stdout"
        },
        {
          "output_type": "display_data",
          "data": {
            "image/png": "[encoded data removed]",
            "text/plain": [
              "<Figure size 432x288 with 1 Axes>"
            ]
          },
          "metadata": {
            "tags": [],
            "needs_background": "light"
          }
        },
        {
          "output_type": "stream",
          "text": [
            "---------------------------------\n"
          ],
          "name": "stdout"
        }
      ]
    }
  ]
}